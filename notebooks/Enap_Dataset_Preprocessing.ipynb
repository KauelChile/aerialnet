{
 "cells": [
  {
   "cell_type": "markdown",
   "metadata": {},
   "source": [
    "# Check every dataset, only leaving images with Maquinaria"
   ]
  },
  {
   "cell_type": "code",
   "execution_count": 2,
   "metadata": {},
   "outputs": [],
   "source": [
    "from matplotlib import pyplot as plt\n",
    "import csv\n",
    "import cv2\n",
    "import os"
   ]
  },
  {
   "cell_type": "code",
   "execution_count": 3,
   "metadata": {
    "tags": []
   },
   "outputs": [],
   "source": [
    "INPUT_FILE = '/home/aikauel/enap/aerialnet_project/datasets/source_dataset/20201027/viaJsonFile_ORIGINAL.json'\n",
    "DATE = '20201027'"
   ]
  },
  {
   "cell_type": "code",
   "execution_count": 4,
   "metadata": {},
   "outputs": [
    {
     "data": {
      "text/plain": [
       "&#39;/home/aikauel/enap/aerialnet_project/notebooks&#39;"
      ]
     },
     "execution_count": 4,
     "metadata": {},
     "output_type": "execute_result"
    }
   ],
   "source": [
    "base_dir = os.getcwd()\n",
    "base_dir"
   ]
  },
  {
   "cell_type": "code",
   "execution_count": 5,
   "metadata": {
    "scrolled": true,
    "tags": []
   },
   "outputs": [
    {
     "name": "stdout",
     "output_type": "stream",
     "text": [
      "Traceback (most recent call last):\n",
      "  File &quot;../dataset_utils/data_ops.py&quot;, line 175, in &lt;module&gt;\n",
      "    add_source_dataset_from_VIA(args.inputFile, args.fromDate, sourceDirPath=args.sourceDirPath)\n",
      "  File &quot;../dataset_utils/data_ops.py&quot;, line 141, in add_source_dataset_from_VIA\n",
      "    imgObj = jsonDict[viaId]\n",
      "TypeError: list indices must be integers or slices, not dict\n"
     ]
    }
   ],
   "source": [
    "!python ../dataset_utils/data_ops.py \\\n",
    "--inputFile {INPUT_FILE} \\\n",
    "--fromDate {DATE} \\\n",
    "--op 'ADD_SOURCE_DATASET'"
   ]
  },
  {
   "cell_type": "markdown",
   "metadata": {},
   "source": [
    "## Check generated patches"
   ]
  },
  {
   "cell_type": "code",
   "execution_count": null,
   "metadata": {
    "tags": []
   },
   "outputs": [],
   "source": [
    "import random\n",
    "plt.rcParams['figure.dpi'] = 300\n",
    "\n",
    "NO_CHECKS = 20\n",
    "countChecks = 0\n",
    "\n",
    "# generate random list of images\n",
    "fileList = []\n",
    "for (dirpath, _, filenames) in os.walk(os.path.join(DATASET_BASE_DIR, DATASET_VERSION)):\n",
    "    jsonFiles = [os.path.abspath(os.path.join(dirpath, fileName)) for fileName in filenames if fileName.endswith(('.jpg', '.JPG'))]\n",
    "    fileList.extend(jsonFiles)\n",
    "\n",
    "image_paths = random.sample(fileList, NO_CHECKS)\n",
    "\n",
    "_data = []\n",
    "with open(OUTPUT_CSV_TRAIN, 'r') as f:\n",
    "    reader = csv.reader(f)\n",
    "    for line in reader:\n",
    "        _data.append(list(line))\n",
    "with open(OUTPUT_CSV_VAL, 'r') as f:\n",
    "    reader = csv.reader(f)\n",
    "    for line in reader:\n",
    "        _data.append(list(line))\n",
    "\n",
    "for idx, imgFile in enumerate(image_paths):\n",
    "    #imgFile = os.path.join(DATASET_OUTPUT, imgFile)\n",
    "    img = cv2.imread(imgFile)\n",
    "    for _r in _data:\n",
    "        #print('_r: {}'.format(_r))\n",
    "        if imgFile == _r[0]:\n",
    "            if _r[1] != '':\n",
    "                xMin = int(_r[1])\n",
    "                yMin = int(_r[2])\n",
    "                xMax = int(_r[3])\n",
    "                yMax = int(_r[4])\n",
    "                labl = int(_r[5])\n",
    "                # draw labels\n",
    "                cv2.rectangle(img, (xMin, yMin), (xMax, yMax), (50, 50, 250))\n",
    "                cv2.putText(img, str(labl), (xMin, yMin), cv2.FONT_HERSHEY_PLAIN, 0.8, (255, 255, 255))\n",
    "            else:\n",
    "                break\n",
    "        else:\n",
    "            pass\n",
    "    #cv2.imwrite(imgFile.replace('.jpg', '_result.jpg'), img)\n",
    "    print('Drawing image {}'.format(imgFile))\n",
    "    rgb = cv2.cvtColor(img, cv2.COLOR_BGR2RGB)\n",
    "    plt.imshow(rgb)\n",
    "    plt.title('Pum!')\n",
    "    plt.show()\n",
    "    countChecks += 1\n",
    "    if countChecks >= NO_CHECKS:\n",
    "        break"
   ]
  },
  {
   "cell_type": "markdown",
   "metadata": {},
   "source": [
    "## Formatting official test dataset"
   ]
  },
  {
   "cell_type": "code",
   "execution_count": 2,
   "metadata": {
    "tags": []
   },
   "outputs": [],
   "source": [
    "import os\n",
    "DATASET_BASE_DIR = '../datasets/data'\n",
    "DATASET_VERSION = 'v3'\n",
    "DATASET_VERSION_DIR = os.path.join(DATASET_BASE_DIR, DATASET_VERSION)\n",
    "CLASSES_FILE = os.path.join(DATASET_VERSION_DIR, 'CLASSES')\n",
    "\n",
    "INPUT_VIAJSON_TEST = '/home/aikauel/enap/data/test_datasets/week_10-14_08_2020/oficialTest.json'\n",
    "OUTPUT_CSV_TEST = os.path.join(DATASET_VERSION_DIR, 'test.csv')"
   ]
  },
  {
   "cell_type": "code",
   "execution_count": 3,
   "metadata": {},
   "outputs": [
    {
     "data": {
      "text/plain": [
       "'/home/aikauel/enap/aerialnet_project/notebooks'"
      ]
     },
     "execution_count": 3,
     "metadata": {},
     "output_type": "execute_result"
    }
   ],
   "source": [
    "base_dir = os.getcwd()\n",
    "base_dir"
   ]
  },
  {
   "cell_type": "code",
   "execution_count": 11,
   "metadata": {
    "scrolled": true,
    "tags": []
   },
   "outputs": [
    {
     "name": "stdout",
     "output_type": "stream",
     "text": [
      "[INFO] creating dataset with 10 classes: [{'id': '0', 'name': 'Vehículo', 'count': 0}, {'id': '1', 'name': 'Camión', 'count': 0}, {'id': '2', 'name': 'Tractor', 'count': 0}, {'id': '3', 'name': 'Maquinaria', 'count': 0}, {'id': '4', 'name': 'Animal', 'count': 0}, {'id': '5', 'name': 'Tuberia', 'count': 0}, {'id': '6', 'name': 'Escombro', 'count': 0}, {'id': '7', 'name': 'Juegos', 'count': 0}, {'id': '8', 'name': 'Zanja', 'count': 0}, {'id': '9', 'name': 'EstrucMetal', 'count': 0}]\r\n",
      "/home/aikauel/enap/data/test_datasets/week_10-14_08_2020/oficialTest.json\r\n",
      "<_io.TextIOWrapper name='/home/aikauel/enap/data/test_datasets/week_10-14_08_2020/oficialTest.json' mode='r' encoding='UTF-8'>\r\n",
      "[INFO] 1319 test annotations written...\r\n",
      "[INFO] 37 test images...\r\n",
      "[INFO] With \r\n",
      "317 Vehículo labels\r\n",
      "41 Camión labels\r\n",
      "7 Tractor labels\r\n",
      "10 Maquinaria labels\r\n",
      "22 Animal labels\r\n",
      "104 Tuberia labels\r\n",
      "504 Escombro labels\r\n",
      "2 Juegos labels\r\n",
      "12 Zanja labels\r\n",
      "300 EstrucMetal labels\r\n",
      "\r\n",
      "[INFO] csv files completed\r\n"
     ]
    }
   ],
   "source": [
    "!python ../dataset_utils/build_dataset.py \\\n",
    "-m test \\\n",
    "-c {CLASSES_FILE} \\\n",
    "-i {INPUT_VIAJSON_TEST} \\\n",
    "-o {OUTPUT_CSV_TEST}"
   ]
  }
 ],
 "metadata": {
  "kernelspec": {
   "display_name": "Python 3.6.10 64-bit ('enap': conda)",
   "language": "python",
   "name": "python361064bitenapcondaa154b689dd3b464d805b46c7ef0ef93d"
  },
  "language_info": {
   "codemirror_mode": {
    "name": "ipython",
    "version": 3
   },
   "file_extension": ".py",
   "mimetype": "text/x-python",
   "name": "python",
   "nbconvert_exporter": "python",
   "pygments_lexer": "ipython3",
   "version": "3.6.10"
  }
 },
 "nbformat": 4,
 "nbformat_minor": 2
}
